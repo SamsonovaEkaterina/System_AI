{
 "cells": [
  {
   "cell_type": "markdown",
   "id": "ec0f99eb",
   "metadata": {},
   "source": [
    " # Практическая работа №1"
   ]
  },
  {
   "cell_type": "markdown",
   "id": "a4509d03",
   "metadata": {},
   "source": [
    "## Тема: \"Основные возможности языка Python\""
   ]
  },
  {
   "cell_type": "markdown",
   "id": "dce41c93",
   "metadata": {},
   "source": [
    "### Выполнила студентка: ПКТб-21-1 Самсонова Екатерина Юрьевна"
   ]
  },
  {
   "cell_type": "markdown",
   "id": "c3902a02",
   "metadata": {},
   "source": [
    "#### ВАРИАНТ: 17"
   ]
  },
  {
   "cell_type": "markdown",
   "id": "a2e4e3eb",
   "metadata": {},
   "source": [
    "#### Задание 1. Расчеты арифметических выражений"
   ]
  },
  {
   "cell_type": "markdown",
   "id": "7e57db92",
   "metadata": {},
   "source": [
    "УСЛОВИЕ:"
   ]
  },
  {
   "cell_type": "markdown",
   "id": "f3c54e84",
   "metadata": {},
   "source": [
    "$ z = 4x - \\Bigg(\\frac{\\frac{a+3}{y}}{\\frac{3x+a}{x-2}}\\Bigg)\\frac{2+y+x-3a}{x-7y} $"
   ]
  },
  {
   "cell_type": "code",
   "execution_count": 3,
   "id": "11f5dbf2",
   "metadata": {},
   "outputs": [
    {
     "name": "stdout",
     "output_type": "stream",
     "text": [
      "Введите x:5\n",
      "Введите y:3\n",
      "Введите a:1.4\n",
      "z= 20.01080623306233\n"
     ]
    }
   ],
   "source": [
    "x=float(input(\"Введите x:\"))\n",
    "y=float(input(\"Введите y:\"))\n",
    "a=float(input(\"Введите a:\"))\n",
    "z = 4*x-((a+3)/y)/((3*x+a)*(x-2))*((2+y+x-3*a)/(x-7*y))\n",
    "print(\"z=\",z)"
   ]
  },
  {
   "cell_type": "markdown",
   "id": "8d187d15",
   "metadata": {},
   "source": [
    "#### Задание 2. Расчеты математических выражений"
   ]
  },
  {
   "cell_type": "markdown",
   "id": "0b7be211",
   "metadata": {},
   "source": [
    "УСЛОВИЕ:"
   ]
  },
  {
   "cell_type": "markdown",
   "id": "1f7d309e",
   "metadata": {},
   "source": [
    "$ z = x - e^{x} - \\cos(x)^{5} + \\frac{x\\cos(x)^{3}}{3^{x}} - \\frac{y^{5}}{5^{y}} $"
   ]
  },
  {
   "cell_type": "code",
   "execution_count": 5,
   "id": "5806eb3a",
   "metadata": {},
   "outputs": [
    {
     "name": "stdout",
     "output_type": "stream",
     "text": [
      "Введите x:5.5\n",
      "Введите y:2.6\n",
      "z= -242.01425697353488\n"
     ]
    }
   ],
   "source": [
    "import math\n",
    "x = float(input(\"Введите x:\"))\n",
    "y = float(input(\"Введите y:\"))\n",
    "z = x - math.exp(x) - math.cos(x**5) + (x*math.cos(x**3))/3**x - y**5/5**y\n",
    "print(\"z=\", z)"
   ]
  },
  {
   "cell_type": "markdown",
   "id": "4c56ee73",
   "metadata": {},
   "source": [
    "#### Задание 3. Логические вычисления"
   ]
  },
  {
   "cell_type": "markdown",
   "id": "27ebc1bc",
   "metadata": {},
   "source": [
    "УСЛОВИЕ:"
   ]
  },
  {
   "attachments": {
    "image.png": {
     "image/png": "[encoded data removed]"
    }
   },
   "cell_type": "markdown",
   "id": "2f10393c",
   "metadata": {},
   "source": [
    "![image.png](attachment:image.png)"
   ]
  },
  {
   "cell_type": "code",
   "execution_count": 1,
   "id": "e0878081",
   "metadata": {},
   "outputs": [
    {
     "name": "stdout",
     "output_type": "stream",
     "text": [
      "Введите x:3\n",
      "Введите y:8\n",
      "не находится\n"
     ]
    }
   ],
   "source": [
    "x = float(input(\"Введите x:\"))\n",
    "y = float(input(\"Введите y:\"))\n",
    "if x>=3 and x<=5 and y>=3 and y<=5:\n",
    "    print(\"находится\")\n",
    "elif x==3 and y==6:\n",
    "    print(\"находится\")\n",
    "elif x>=3 and x<=5 and y==11:\n",
    "    print(\"находится\")\n",
    "elif x==6 and y>=5 and y<=11:\n",
    "    print(\"находится\")\n",
    "elif x>=7 and x<=8 and y>=5 and y<=8:\n",
    "    print(\"находится\")\n",
    "elif x==9 and y>=3 and y<=12:\n",
    "    print(\"находится\")\n",
    "elif x>=10 and x<=12 and y>=8 and y<=13:\n",
    "    print(\"находится\")\n",
    "elif x==13 and y>=6 and y<=8:\n",
    "    print(\"находится\")\n",
    "else:\n",
    "    print(\"не находится\")"
   ]
  },
  {
   "cell_type": "markdown",
   "id": "c1f292e4",
   "metadata": {},
   "source": [
    "#### Задание 4. Логические вычисления "
   ]
  },
  {
   "cell_type": "markdown",
   "id": "c453d8f3",
   "metadata": {},
   "source": [
    "УСЛОВИЕ:"
   ]
  },
  {
   "attachments": {
    "image.png": {
     "image/png": "[encoded data removed]"
    }
   },
   "cell_type": "markdown",
   "id": "23ace18a",
   "metadata": {},
   "source": [
    "![image.png](attachment:image.png)"
   ]
  },
  {
   "cell_type": "code",
   "execution_count": 8,
   "id": "fd0a6eba",
   "metadata": {},
   "outputs": [
    {
     "name": "stdout",
     "output_type": "stream",
     "text": [
      "Введите x:-0.5\n",
      "Введите y:-0.5\n",
      "да\n"
     ]
    }
   ],
   "source": [
    "x = float(input(\"Введите x:\"))\n",
    "y = float(input(\"Введите y:\"))\n",
    "if x**2 + y**2 >= -1 and y<=x/2:\n",
    "    print(\"да\")\n",
    "else:\n",
    "    print(\"нет\")"
   ]
  },
  {
   "cell_type": "markdown",
   "id": "342a2c18",
   "metadata": {},
   "source": [
    "#### Задание 5. Вычисление циклических процессов"
   ]
  },
  {
   "cell_type": "markdown",
   "id": "707bfd11",
   "metadata": {},
   "source": [
    "УСЛОВИЕ:"
   ]
  },
  {
   "cell_type": "markdown",
   "id": "9c3a1c50",
   "metadata": {},
   "source": [
    "$ f(x) = \\frac{\\sin x + \\cos\\sqrt{x^2 + 1}}{\\cos(12x - 4)} $"
   ]
  },
  {
   "cell_type": "code",
   "execution_count": 6,
   "id": "dda66525",
   "metadata": {},
   "outputs": [
    {
     "name": "stdout",
     "output_type": "stream",
     "text": [
      "Введите значение переменных:\n",
      "Введите начальное значение X1:\n",
      "1\n",
      "Введите конечное значение X2:\n",
      "7\n",
      "Введите шаг S:\n",
      "0.5\n",
      "***************************************************************************\n",
      "РЕЗУЛЬТАТ:\n",
      "+----------------+\n",
      "|  X  |   f(X)   |\n",
      "+----------------+\n",
      "| 1.00|     -6.86|\n",
      "| 1.50|      5.61|\n",
      "| 2.00|      0.72|\n",
      "| 2.50|     -0.47|\n",
      "| 3.00|     -1.03|\n",
      "| 3.50|     -1.29|\n",
      "| 4.00|     -1.31|\n",
      "| 4.50|     -1.12|\n",
      "| 5.00|     -0.68|\n",
      "| 5.50|      0.09|\n",
      "| 6.00|      1.59|\n",
      "| 6.50|      6.83|\n",
      "| 7.00|    -12.34|\n",
      "+----------------+\n",
      "***************************************************************************\n"
     ]
    }
   ],
   "source": [
    "import math\n",
    "\n",
    "y = []\n",
    "x = []\n",
    "\n",
    "print(\"Введите значение переменных:\")\n",
    "print(\"Введите начальное значение X1:\")\n",
    "X1 = int(input())\n",
    "print(\"Введите конечное значение X2:\")\n",
    "X2 = int(input())\n",
    "print(\"Введите шаг S:\")\n",
    "S = float(input())\n",
    "\n",
    "print(\"***************************************************************************\")\n",
    "print(\"РЕЗУЛЬТАТ:\")\n",
    "print(\"+----------------+\")\n",
    "print(\"|  X  |   f(X)   |\")\n",
    "print(\"+----------------+\")\n",
    "\n",
    "while X1 <= X2:\n",
    "    Y = (math.sin(X1) + math.cos(math.sqrt(X1**2 + 1))) / math.cos(12*X1 - 4)\n",
    "    y.append(Y)\n",
    "    x.append(X1)\n",
    "    print(\"|{:5.2f}|{:10.2f}|\".format(X1, Y))\n",
    "    X1 = X1 + S\n",
    "\n",
    "print(\"+----------------+\")\n",
    "print(\"***************************************************************************\")"
   ]
  },
  {
   "cell_type": "markdown",
   "id": "7420ea2e",
   "metadata": {},
   "source": [
    "#### Задание 6. Списки (одномерные массивы) в Python "
   ]
  },
  {
   "cell_type": "markdown",
   "id": "d7518f94",
   "metadata": {},
   "source": [
    "УСЛОВИЕ:"
   ]
  },
  {
   "cell_type": "markdown",
   "id": "ab1333f8",
   "metadata": {},
   "source": [
    "Дан целочисленный одномерный массив на N элементов, заполненный случайными числами в заданном диапазоне (от n1 до n2) с чередованием заданного числа X. \n",
    "\n",
    "Найти сумму нечетных элементов массива с номерами от K до L включительно.\n",
    " \n",
    "Произвести проверку на корректность ввода интервальных значений (n1<n2, K<L).\n"
   ]
  },
  {
   "cell_type": "code",
   "execution_count": 2,
   "id": "42b27c8b",
   "metadata": {},
   "outputs": [
    {
     "name": "stdout",
     "output_type": "stream",
     "text": [
      "Введите количество элементов в массиве:\n",
      "20\n",
      "*************************************************************************\n",
      "ВВЕДИТЕ ДИАПАЗОН ЗНАЧЕНИЙ:\n",
      "Введите отрицательный элемент массива n1:\n",
      "-10\n",
      "Введите положительный элемент массива n2:\n",
      "10\n",
      "Введите значение X: 6\n",
      "*************************************************************************\n",
      "Сгенерированный одномерный массив\n",
      "0 )  6\n",
      "1 )  2\n",
      "2 )  6\n",
      "3 )  9\n",
      "4 )  6\n",
      "5 )  0\n",
      "6 )  6\n",
      "7 )  -6\n",
      "8 )  6\n",
      "9 )  -8\n",
      "10 )  6\n",
      "11 )  -3\n",
      "12 )  6\n",
      "13 )  7\n",
      "14 )  6\n",
      "15 )  -4\n",
      "16 )  6\n",
      "17 )  6\n",
      "18 )  6\n",
      "19 )  -8\n",
      "*************************************************************************\n",
      "Введите K\n",
      "5\n",
      "Введите L\n",
      "15\n",
      "*************************************************************************\n",
      "5 )  0\n",
      "6 )  6\n",
      "7 )  -6\n",
      "8 )  6\n",
      "9 )  -8\n",
      "10 )  6\n",
      "11 )  -3\n",
      "12 )  6\n",
      "13 )  7\n",
      "14 )  6\n",
      "15 )  -4\n",
      "Сумма нечетных элементов с номерами от 5 до 15 включительно: 4\n"
     ]
    }
   ],
   "source": [
    "import random\n",
    "\n",
    "# Функция для создания массива с чередованием заданного числа\n",
    "def create_alternating_array(N, n1, n2, X):\n",
    "    arr = []\n",
    "    for i in range(N):\n",
    "        if i % 2 == 0:\n",
    "            arr.append(X)\n",
    "        else:\n",
    "            arr.append(random.randint(n1, n2))\n",
    "    return arr\n",
    "\n",
    "# Функция для нахождения суммы нечетных элементов массива с номерами от K до L\n",
    "def find_sum_of_odd_elements(arr, K, L):\n",
    "    odd_sum = 0\n",
    "    for i in range(len(arr)):\n",
    "        if arr[i] % 2 != 0 and i >= K and i <= L:\n",
    "            odd_sum += arr[i]\n",
    "    return odd_sum\n",
    "\n",
    "# Ввод и проверка значений\n",
    "print(\"Введите количество элементов в массиве:\")\n",
    "N = int(input())\n",
    "print(\"*************************************************************************\")\n",
    "print(\"ВВЕДИТЕ ДИАПАЗОН ЗНАЧЕНИЙ:\")\n",
    "print(\"Введите отрицательный элемент массива n1:\")\n",
    "n1 = int(input())\n",
    "print(\"Введите положительный элемент массива n2:\")\n",
    "n2 = int(input())\n",
    "while n2 <= n1:\n",
    "    print(\"Введите значение n2 больше чем n1.\")\n",
    "    n2 = int(input(\"Введите значение n2 (n1 < n2): \"))\n",
    "X = int(input(\"Введите значение X: \"))\n",
    "    \n",
    "# Создание массива с чередованием\n",
    "array = create_alternating_array(N, n1, n2, X)\n",
    "print(\"*************************************************************************\")\n",
    "print(\"Сгенерированный одномерный массив\")\n",
    "for i in range(len(array)):\n",
    "    print(i,\") \", array[i])\n",
    "    \n",
    "print(\"*************************************************************************\")\n",
    "print(\"Введите K\")\n",
    "K = int(input())\n",
    "print(\"Введите L\")\n",
    "L = int(input())\n",
    "while L <= K:\n",
    "    print(\"Введите значение L больше чем K.\")\n",
    "    L = int(input(\"Введите конечный индекс L: \"))\n",
    "print(\"*************************************************************************\")\n",
    "\n",
    "# Поиск суммы нечетных элементов\n",
    "sum_of_odd = find_sum_of_odd_elements(array, K, L)\n",
    "for i in range(len(array)):\n",
    "    if i>=K and i<=L:\n",
    "        print(i, \") \", array[i])\n",
    "print(f\"Сумма нечетных элементов с номерами от {K} до {L} включительно: {sum_of_odd}\")\n"
   ]
  },
  {
   "cell_type": "markdown",
   "id": "3da632db",
   "metadata": {},
   "source": [
    "#### Задание 7. Двумерные массивы (матрицы) в Python "
   ]
  },
  {
   "cell_type": "markdown",
   "id": "bdd0066d",
   "metadata": {},
   "source": [
    "УСЛОВИЕ:"
   ]
  },
  {
   "cell_type": "markdown",
   "id": "76b77da9",
   "metadata": {},
   "source": [
    "Дан целочисленный двумерный массив N на M элементов, заполненный случайными числами в заданном диапазоне (от n1 до n2) с чередованием случайного отрицательного числа в строках.\n",
    "Найти произведение нечётных элементов массива с номерами от K до L включительно в заданном столбце С.\n",
    "Произвести проверку на корректность ввода интервальных значений (n1<n2, K<L, С и т.д.).\n"
   ]
  },
  {
   "cell_type": "code",
   "execution_count": 42,
   "id": "782ea9da",
   "metadata": {},
   "outputs": [
    {
     "name": "stdout",
     "output_type": "stream",
     "text": [
      "Введите количество строк в массиве:\n",
      "10\n",
      "Введите количество столбцов в массиве:\n",
      "10\n",
      "*************************************************************************\n",
      "ВВЕДИТЕ ДИАПАЗОН ЗНАЧЕНИЙ:\n",
      "Введите отрицательный элемент массива n1:\n",
      "-10\n",
      "Введите положительный элемент массива n2:\n",
      "10\n",
      "*************************************************************************\n",
      "Сгенерированный двумерный массив\n",
      " -10   10  -10    6  -10    5  -10   -6  -10   -3 \n",
      "  -5   10   -5    2   -5    6   -5    2   -5   -3 \n",
      "  -6   -5   -6   -7   -6    2   -6    5   -6   -5 \n",
      "  -8    4   -8    2   -8    4   -8   -2   -8    7 \n",
      "  -1    3   -1    1   -1    2   -1    1   -1   -8 \n",
      "  -6    2   -6   10   -6    2   -6  -10   -6    4 \n",
      "  -5   -9   -5   -1   -5    5   -5   -1   -5   -9 \n",
      "  -8   -4   -8    4   -8   -1   -8   -6   -8   -9 \n",
      "  -8   -4   -8   -4   -8   -2   -8    6   -8  -10 \n",
      " -10  -10  -10    9  -10    9  -10   -9  -10   -2 \n",
      "*************************************************************************\n",
      "Введите K\n",
      "3\n",
      "Введите L\n",
      "7\n",
      "Введите столбец C\n",
      "0\n",
      "*************************************************************************\n",
      "Произведение нечетных элементов с номерами от 3 до 7 включительно в столбце 0: 5\n"
     ]
    }
   ],
   "source": [
    "import random\n",
    "\n",
    "# Функция для создания массива с чередованием заданного числа\n",
    "def create_alternating_array(N, M, n1, n2):\n",
    "    a = []\n",
    "    for i in range(N):\n",
    "        x = random.randint(n1, -1)\n",
    "        b = []\n",
    "        for j in range(M):\n",
    "            if j%2 == 0:\n",
    "                b.append(x)\n",
    "            else:\n",
    "                b.append(random.randint(n1, n2))\n",
    "        a.append(b)\n",
    "    return a\n",
    "\n",
    "# Функция для нахождения произведения нечетных элементов массива с номерами от K до L в заданном столбце С\n",
    "def find_mul_of_odd_elements(arr, K, L, C):\n",
    "    odd_mul = 1\n",
    "    for i in range(K, L+1):\n",
    "        if arr[i][C] % 2 != 0:\n",
    "            odd_mul *= arr[i][C]\n",
    "    return odd_mul\n",
    "\n",
    "# Ввод и проверка значений\n",
    "print(\"Введите количество строк в массиве:\")\n",
    "N = int(input())\n",
    "print(\"Введите количество столбцов в массиве:\")\n",
    "M = int(input())\n",
    "print(\"*************************************************************************\")\n",
    "print(\"ВВЕДИТЕ ДИАПАЗОН ЗНАЧЕНИЙ:\")\n",
    "print(\"Введите отрицательный элемент массива n1:\")\n",
    "n1 = int(input())\n",
    "print(\"Введите положительный элемент массива n2:\")\n",
    "n2 = int(input())\n",
    "while n2 <= n1:\n",
    "    print(\"Введите значение n2 больше чем n1.\")\n",
    "    n2 = int(input(\"Введите значение n2 (n1 < n2): \"))\n",
    "    \n",
    "# Создание массива с чередованием\n",
    "array = create_alternating_array(N, M, n1, n2)\n",
    "print(\"*************************************************************************\")\n",
    "print(\"Сгенерированный двумерный массив\")\n",
    "for i in range(N):\n",
    "    for j in range(M):\n",
    "        print(\"%4d\" % array[i][j], end=\" \")\n",
    "    print()\n",
    "    \n",
    "print(\"*************************************************************************\")\n",
    "print(\"Введите K\")\n",
    "K = int(input())\n",
    "print(\"Введите L\")\n",
    "L = int(input())\n",
    "while L <= K:\n",
    "    print(\"Введите значение L больше чем K.\")\n",
    "    L = int(input(\"Введите конечный индекс L: \"))\n",
    "print(\"Введите столбец C\")\n",
    "C = int(input())\n",
    "while not(C >= 0 and C < M):\n",
    "    print(\"Введите значение C от 0 до M-1.\")\n",
    "    C = int(input(\"Введите столбец C: \"))\n",
    "print(\"*************************************************************************\")\n",
    "\n",
    "# Поиск произведения нечетных элементов\n",
    "mul_of_odd = find_mul_of_odd_elements(array, K, L, C)\n",
    "print(f\"Произведение нечетных элементов с номерами от {K} до {L} включительно в столбце {C}: {mul_of_odd}\")"
   ]
  },
  {
   "cell_type": "code",
   "execution_count": null,
   "id": "c14b59f2",
   "metadata": {},
   "outputs": [],
   "source": []
  }
 ],
 "metadata": {
  "kernelspec": {
   "display_name": "Python 3 (ipykernel)",
   "language": "python",
   "name": "python3"
  },
  "language_info": {
   "codemirror_mode": {
    "name": "ipython",
    "version": 3
   },
   "file_extension": ".py",
   "mimetype": "text/x-python",
   "name": "python",
   "nbconvert_exporter": "python",
   "pygments_lexer": "ipython3",
   "version": "3.11.5"
  }
 },
 "nbformat": 4,
 "nbformat_minor": 5
}
